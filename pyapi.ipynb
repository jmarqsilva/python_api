{
 "cells": [
  {
   "cell_type": "code",
   "execution_count": 31,
   "metadata": {},
   "outputs": [],
   "source": [
    "import requests as re"
   ]
  },
  {
   "cell_type": "code",
   "execution_count": 19,
   "metadata": {},
   "outputs": [],
   "source": [
    "api_url = \" https://viacep.com.br/ws/26033480/json/\""
   ]
  },
  {
   "cell_type": "code",
   "execution_count": 29,
   "metadata": {},
   "outputs": [],
   "source": [
    "response = re.get(api_url)"
   ]
  },
  {
   "cell_type": "code",
   "execution_count": 30,
   "metadata": {},
   "outputs": [],
   "source": [
    "if response.status_code == 200:\n",
    "       # Retorna os dados da resposta (geralmente em formato JSON)\n",
    "       dadosapi = response.json()\n",
    "else:\n",
    "       # Se a requisição falhar, imprime uma mensagem de erro\n",
    "       print(f\"Erro ao acessar a API. Status code: {response.status_code}\")\n",
    "       dadosapi =  None    "
   ]
  },
  {
   "cell_type": "code",
   "execution_count": 32,
   "metadata": {},
   "outputs": [
    {
     "name": "stdout",
     "output_type": "stream",
     "text": [
      "Dados da API:\n",
      "{'cep': '26033-480', 'logradouro': 'Rua Nações', 'complemento': '', 'bairro': 'Ponto Chic', 'localidade': 'Nova Iguaçu', 'uf': 'RJ', 'ibge': '3303500', 'gia': '', 'ddd': '21', 'siafi': '5869'}\n"
     ]
    }
   ],
   "source": [
    "print(\"Dados da API:\")\n",
    "print(dadosapi)"
   ]
  }
 ],
 "metadata": {
  "kernelspec": {
   "display_name": "base",
   "language": "python",
   "name": "python3"
  },
  "language_info": {
   "codemirror_mode": {
    "name": "ipython",
    "version": 3
   },
   "file_extension": ".py",
   "mimetype": "text/x-python",
   "name": "python",
   "nbconvert_exporter": "python",
   "pygments_lexer": "ipython3",
   "version": "3.11.4"
  }
 },
 "nbformat": 4,
 "nbformat_minor": 2
}
